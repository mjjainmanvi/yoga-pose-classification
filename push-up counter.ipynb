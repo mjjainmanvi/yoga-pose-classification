{
 "cells": [
  {
   "cell_type": "code",
   "execution_count": null,
   "id": "776246cc",
   "metadata": {},
   "outputs": [],
   "source": [
    "import cv2\n",
    "import mediapipe as mp\n",
    "\n",
    "mp_drawing = mp.solutions.drawing_utils\n",
    "mp_pose = mp.solutions.pose\n",
    "\n",
    "cap = cv2.VideoCapture(0)  # Capture video from webcam\n",
    "pushup_count = 0\n",
    "pushup_detected = False\n",
    "\n",
    "with mp_pose.Pose(min_detection_confidence=0.5, min_tracking_confidence=0.5) as pose:\n",
    "    while cap.isOpened():\n",
    "        ret, frame = cap.read()\n",
    "        if not ret:\n",
    "#             print(\"Ignoring empty camera frame.\")\n",
    "            continue\n",
    "\n",
    "        # Convert the BGR image to RGB.\n",
    "        image = cv2.cvtColor(frame, cv2.COLOR_BGR2RGB)\n",
    "        image.flags.writeable = False\n",
    "\n",
    "        # Process the image and detect the pose landmarks.\n",
    "        results = pose.process(image)\n",
    "\n",
    "        image.flags.writeable = True\n",
    "        image = cv2.cvtColor(image, cv2.COLOR_RGB2BGR)\n",
    "\n",
    "        if results.pose_landmarks is not None:\n",
    "            # Get the left and right shoulder and hip landmarks.\n",
    "            left_shoulder = results.pose_landmarks.landmark[mp_pose.PoseLandmark.LEFT_SHOULDER]\n",
    "            right_shoulder = results.pose_landmarks.landmark[mp_pose.PoseLandmark.RIGHT_SHOULDER]\n",
    "            left_hip = results.pose_landmarks.landmark[mp_pose.PoseLandmark.LEFT_HIP]\n",
    "            right_hip = results.pose_landmarks.landmark[mp_pose.PoseLandmark.RIGHT_HIP]\n",
    "\n",
    "            # Calculate the angle between the shoulders and hips.\n",
    "            angle = abs((left_shoulder.y - left_hip.y) + (right_shoulder.y - right_hip.y))\n",
    "\n",
    "            if angle < 0.1:  # If the angle is less than a threshold, consider it as a push-up\n",
    "                if not pushup_detected:  # If a push-up has not been detected in the previous frame\n",
    "                    pushup_count += 1\n",
    "                    pushup_detected = True  # Set the flag to True to avoid counting multiple times for the same push-up\n",
    "            else:\n",
    "                pushup_detected = False  # Reset the flag if the angle is not below the threshold\n",
    "\n",
    "        # Draw the pose landmarks and the push-up count on the frame.\n",
    "        mp_drawing.draw_landmarks(image, results.pose_landmarks, mp_pose.POSE_CONNECTIONS)\n",
    "        cv2.putText(image, f\"Push-ups: {pushup_count}\", (10, 30), cv2.FONT_HERSHEY_SIMPLEX, 1, (0, 255, 0), 2)\n",
    "\n",
    "        cv2.imshow('Push-up Counter', image)\n",
    "        if cv2.waitKey(10) & 0xFF == ord('q'):\n",
    "            break\n",
    "\n",
    "cap.release()\n",
    "cv2.destroyAllWindows()"
   ]
  }
 ],
 "metadata": {
  "kernelspec": {
   "display_name": "Python 3 (ipykernel)",
   "language": "python",
   "name": "python3"
  },
  "language_info": {
   "codemirror_mode": {
    "name": "ipython",
    "version": 3
   },
   "file_extension": ".py",
   "mimetype": "text/x-python",
   "name": "python",
   "nbconvert_exporter": "python",
   "pygments_lexer": "ipython3",
   "version": "3.9.7"
  }
 },
 "nbformat": 4,
 "nbformat_minor": 5
}
